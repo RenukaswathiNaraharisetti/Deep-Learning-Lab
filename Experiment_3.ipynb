{
  "nbformat": 4,
  "nbformat_minor": 0,
  "metadata": {
    "colab": {
      "provenance": [],
      "authorship_tag": "ABX9TyM/uEE4iLtBXocxbrz1n8pP",
      "include_colab_link": true
    },
    "kernelspec": {
      "name": "python3",
      "display_name": "Python 3"
    },
    "language_info": {
      "name": "python"
    }
  },
  "cells": [
    {
      "cell_type": "markdown",
      "metadata": {
        "id": "view-in-github",
        "colab_type": "text"
      },
      "source": [
        "<a href=\"https://colab.research.google.com/github/RenukaswathiNaraharisetti/Deep-Learning-Lab/blob/main/Experiment_3.ipynb\" target=\"_parent\"><img src=\"https://colab.research.google.com/assets/colab-badge.svg\" alt=\"Open In Colab\"/></a>"
      ]
    },
    {
      "cell_type": "code",
      "execution_count": 1,
      "metadata": {
        "id": "ssL2bvSn45c_"
      },
      "outputs": [],
      "source": [
        "import numpy as np"
      ]
    },
    {
      "cell_type": "code",
      "source": [
        "class NeuralNetwork():\n",
        "\n",
        "    def __init__(self):\n",
        "        np.random.seed(1)\n",
        "        self.synaptic_weights = 2 * np.random.random((3, 1)) - 1\n",
        "    def sigmoid(self, x):\n",
        "        return 1 / (1 + np.exp(-x))\n",
        "    def sigmoid_derivative(self, x):\n",
        "        return x * (1 - x)\n",
        "    def train(self, training_inputs, training_outputs, training_iterations):\n",
        "        for iteration in range(training_iterations):\n",
        "            output = self.think(training_inputs)\n",
        "            error = training_outputs - output\n",
        "            adjustments = np.dot(training_inputs.T, error * self.sigmoid_derivative(output))\n",
        "            self.synaptic_weights += adjustments\n",
        "    def think(self, inputs):\n",
        "        inputs = inputs.astype(float)\n",
        "        output = self.sigmoid(np.dot(inputs, self.synaptic_weights))\n",
        "        return output"
      ],
      "metadata": {
        "id": "YfzEF79T5_r4"
      },
      "execution_count": 2,
      "outputs": []
    },
    {
      "cell_type": "code",
      "source": [
        "if __name__ == \"__main__\":\n",
        "  #Intialise a single neuron neural network.\n",
        "  neural_network = NeuralNetwork()\n",
        "  print(\"Random starting synaptic weights: \")\n",
        "  print(neural_network.synaptic_weights)\n",
        "\n",
        "    # The training set. We have 4 examples, each consisting of 3 input values\n",
        "    # and 1 output value.\n",
        "  training_set_inputs = np.array([[0, 0, 1], [1, 1, 1], [1, 0, 1], [0, 1, 1]])\n",
        "  training_set_outputs = np.array([[0, 1, 1, 0]]).T\n",
        "  neural_network.train(training_set_inputs, training_set_outputs, 10000)\n",
        "  print(\"New synaptic weights after training: \")\n",
        "  print(neural_network.synaptic_weights)\n",
        "  print(\"Considering new situation [1, 0, 0] -> ?: \")\n",
        "  print(neural_network.think(np.array([1, 0, 0])))\n",
        ""
      ],
      "metadata": {
        "colab": {
          "base_uri": "https://localhost:8080/"
        },
        "id": "TVUD5SEl65Oo",
        "outputId": "82883825-e9d1-43d8-b98c-d7f6918ef68f"
      },
      "execution_count": 3,
      "outputs": [
        {
          "output_type": "stream",
          "name": "stdout",
          "text": [
            "Random starting synaptic weights: \n",
            "[[-0.16595599]\n",
            " [ 0.44064899]\n",
            " [-0.99977125]]\n",
            "New synaptic weights after training: \n",
            "[[ 9.67299303]\n",
            " [-0.2078435 ]\n",
            " [-4.62963669]]\n",
            "Considering new situation [1, 0, 0] -> ?: \n",
            "[0.99993704]\n"
          ]
        }
      ]
    }
  ]
}